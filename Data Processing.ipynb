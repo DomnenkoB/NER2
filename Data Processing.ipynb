{
 "cells": [
  {
   "cell_type": "code",
   "execution_count": 10,
   "metadata": {},
   "outputs": [],
   "source": [
    "import os\n",
    "import json\n",
    "\n",
    "import spacy\n",
    "import pandas as pd"
   ]
  },
  {
   "cell_type": "code",
   "execution_count": 2,
   "metadata": {},
   "outputs": [],
   "source": [
    "RAW_DATA_DIR = \"Data/Positions\""
   ]
  },
  {
   "cell_type": "code",
   "execution_count": 11,
   "metadata": {},
   "outputs": [],
   "source": [
    "nlp_engine = spacy.load(\"en_core_web_lg\")"
   ]
  },
  {
   "cell_type": "code",
   "execution_count": 7,
   "metadata": {},
   "outputs": [],
   "source": [
    "positions = []\n",
    "\n",
    "f_names = os.listdir(RAW_DATA_DIR)\n",
    "for f_name in f_names:\n",
    "    with open(f\"{RAW_DATA_DIR}/{f_name}\", encoding=\"utf8\") as f:\n",
    "        position = json.load(f)\n",
    "        positions.append(position)"
   ]
  },
  {
   "cell_type": "code",
   "execution_count": 13,
   "metadata": {},
   "outputs": [],
   "source": [
    "data = []\n",
    "\n",
    "for position in positions:\n",
    "    description = position.get(\"description\", \"\")\n",
    "    description = description.split(\"\\n\")\n",
    "    description = list(filter(lambda s: len(s) > 0, description))\n",
    "\n",
    "    for i, line in enumerate(description):\n",
    "        doc = nlp_engine(line)\n",
    "        for j, token in enumerate(doc):\n",
    "            data.append({\n",
    "                \"document_id\": position[\"id\"],\n",
    "                \"line\": i,\n",
    "                \"token_index\": j,\n",
    "                \"token\": token.text,\n",
    "                \"token_pos\": token.pos_\n",
    "            })"
   ]
  },
  {
   "cell_type": "code",
   "execution_count": 20,
   "metadata": {},
   "outputs": [],
   "source": [
    "df = pd.DataFrame(data)"
   ]
  },
  {
   "cell_type": "code",
   "execution_count": 26,
   "metadata": {},
   "outputs": [],
   "source": [
    "df = df[df.token_pos != \"SPACE\"]\n",
    "df[\"tag\"] = \"O\""
   ]
  },
  {
   "cell_type": "code",
   "execution_count": 27,
   "metadata": {},
   "outputs": [
    {
     "data": {
      "text/html": [
       "<div>\n",
       "<style scoped>\n",
       "    .dataframe tbody tr th:only-of-type {\n",
       "        vertical-align: middle;\n",
       "    }\n",
       "\n",
       "    .dataframe tbody tr th {\n",
       "        vertical-align: top;\n",
       "    }\n",
       "\n",
       "    .dataframe thead th {\n",
       "        text-align: right;\n",
       "    }\n",
       "</style>\n",
       "<table border=\"1\" class=\"dataframe\">\n",
       "  <thead>\n",
       "    <tr style=\"text-align: right;\">\n",
       "      <th></th>\n",
       "      <th>document_id</th>\n",
       "      <th>line</th>\n",
       "      <th>token_index</th>\n",
       "      <th>token</th>\n",
       "      <th>token_pos</th>\n",
       "      <th>tag</th>\n",
       "    </tr>\n",
       "  </thead>\n",
       "  <tbody>\n",
       "    <tr>\n",
       "      <th>1</th>\n",
       "      <td>121288</td>\n",
       "      <td>0</td>\n",
       "      <td>1</td>\n",
       "      <td>About</td>\n",
       "      <td>ADP</td>\n",
       "      <td>O</td>\n",
       "    </tr>\n",
       "    <tr>\n",
       "      <th>3</th>\n",
       "      <td>121288</td>\n",
       "      <td>0</td>\n",
       "      <td>3</td>\n",
       "      <td>us</td>\n",
       "      <td>PRON</td>\n",
       "      <td>O</td>\n",
       "    </tr>\n",
       "    <tr>\n",
       "      <th>4</th>\n",
       "      <td>121288</td>\n",
       "      <td>0</td>\n",
       "      <td>4</td>\n",
       "      <td>:</td>\n",
       "      <td>PUNCT</td>\n",
       "      <td>O</td>\n",
       "    </tr>\n",
       "    <tr>\n",
       "      <th>6</th>\n",
       "      <td>121288</td>\n",
       "      <td>0</td>\n",
       "      <td>6</td>\n",
       "      <td>BetterMe</td>\n",
       "      <td>PROPN</td>\n",
       "      <td>O</td>\n",
       "    </tr>\n",
       "    <tr>\n",
       "      <th>7</th>\n",
       "      <td>121288</td>\n",
       "      <td>0</td>\n",
       "      <td>7</td>\n",
       "      <td>is</td>\n",
       "      <td>AUX</td>\n",
       "      <td>O</td>\n",
       "    </tr>\n",
       "    <tr>\n",
       "      <th>...</th>\n",
       "      <td>...</td>\n",
       "      <td>...</td>\n",
       "      <td>...</td>\n",
       "      <td>...</td>\n",
       "      <td>...</td>\n",
       "      <td>...</td>\n",
       "    </tr>\n",
       "    <tr>\n",
       "      <th>5268</th>\n",
       "      <td>109080</td>\n",
       "      <td>29</td>\n",
       "      <td>9</td>\n",
       "      <td>tests</td>\n",
       "      <td>NOUN</td>\n",
       "      <td>O</td>\n",
       "    </tr>\n",
       "    <tr>\n",
       "      <th>5269</th>\n",
       "      <td>109080</td>\n",
       "      <td>29</td>\n",
       "      <td>10</td>\n",
       "      <td>and</td>\n",
       "      <td>CCONJ</td>\n",
       "      <td>O</td>\n",
       "    </tr>\n",
       "    <tr>\n",
       "      <th>5270</th>\n",
       "      <td>109080</td>\n",
       "      <td>29</td>\n",
       "      <td>11</td>\n",
       "      <td>other</td>\n",
       "      <td>ADJ</td>\n",
       "      <td>O</td>\n",
       "    </tr>\n",
       "    <tr>\n",
       "      <th>5272</th>\n",
       "      <td>109080</td>\n",
       "      <td>29</td>\n",
       "      <td>13</td>\n",
       "      <td>QA</td>\n",
       "      <td>NOUN</td>\n",
       "      <td>O</td>\n",
       "    </tr>\n",
       "    <tr>\n",
       "      <th>5273</th>\n",
       "      <td>109080</td>\n",
       "      <td>29</td>\n",
       "      <td>14</td>\n",
       "      <td>documents</td>\n",
       "      <td>NOUN</td>\n",
       "      <td>O</td>\n",
       "    </tr>\n",
       "  </tbody>\n",
       "</table>\n",
       "<p>4300 rows × 6 columns</p>\n",
       "</div>"
      ],
      "text/plain": [
       "     document_id  line  token_index      token token_pos tag\n",
       "1         121288     0            1      About       ADP   O\n",
       "3         121288     0            3         us      PRON   O\n",
       "4         121288     0            4          :     PUNCT   O\n",
       "6         121288     0            6   BetterMe     PROPN   O\n",
       "7         121288     0            7         is       AUX   O\n",
       "...          ...   ...          ...        ...       ...  ..\n",
       "5268      109080    29            9      tests      NOUN   O\n",
       "5269      109080    29           10        and     CCONJ   O\n",
       "5270      109080    29           11      other       ADJ   O\n",
       "5272      109080    29           13         QA      NOUN   O\n",
       "5273      109080    29           14  documents      NOUN   O\n",
       "\n",
       "[4300 rows x 6 columns]"
      ]
     },
     "execution_count": 27,
     "metadata": {},
     "output_type": "execute_result"
    }
   ],
   "source": [
    "df"
   ]
  },
  {
   "cell_type": "code",
   "execution_count": 28,
   "metadata": {},
   "outputs": [],
   "source": [
    "df.to_csv(\"Data/ner.tsv\", sep=\"\\t\", index=False)"
   ]
  },
  {
   "cell_type": "code",
   "execution_count": null,
   "metadata": {},
   "outputs": [],
   "source": []
  }
 ],
 "metadata": {
  "kernelspec": {
   "display_name": "Python 3",
   "language": "python",
   "name": "python3"
  },
  "language_info": {
   "codemirror_mode": {
    "name": "ipython",
    "version": 3
   },
   "file_extension": ".py",
   "mimetype": "text/x-python",
   "name": "python",
   "nbconvert_exporter": "python",
   "pygments_lexer": "ipython3",
   "version": "3.7.4"
  }
 },
 "nbformat": 4,
 "nbformat_minor": 4
}
