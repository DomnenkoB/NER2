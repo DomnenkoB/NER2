{
 "cells": [
  {
   "cell_type": "code",
   "execution_count": 1,
   "metadata": {},
   "outputs": [
    {
     "name": "stderr",
     "output_type": "stream",
     "text": [
      "Using TensorFlow backend.\n",
      "c:\\program files\\python37\\lib\\site-packages\\sklearn\\utils\\deprecation.py:144: FutureWarning: The sklearn.metrics.classification module is  deprecated in version 0.22 and will be removed in version 0.24. The corresponding classes / functions should instead be imported from sklearn.metrics. Anything that cannot be imported from sklearn.metrics is now part of the private API.\n",
      "  warnings.warn(message, FutureWarning)\n"
     ]
    }
   ],
   "source": [
    "import pandas as pd\n",
    "import numpy as np\n",
    "import spacy\n",
    "from matplotlib import pyplot as plt\n",
    "from keras.preprocessing.sequence import pad_sequences\n",
    "from keras.utils import to_categorical, plot_model\n",
    "from keras.models import Model, Input\n",
    "from keras.layers import LSTM, Dense, TimeDistributed, Bidirectional, concatenate, SpatialDropout1D\n",
    "from keras_contrib.layers import CRF\n",
    "from keras_contrib.losses import crf_loss\n",
    "from sklearn.model_selection import train_test_split\n",
    "from sklearn.metrics.classification import classification_report"
   ]
  },
  {
   "cell_type": "code",
   "execution_count": 2,
   "metadata": {},
   "outputs": [],
   "source": [
    "nlp = spacy.load(\"en_core_web_lg\")"
   ]
  },
  {
   "cell_type": "code",
   "execution_count": 3,
   "metadata": {},
   "outputs": [],
   "source": [
    "df = pd.read_csv(\"Data/ner.tsv\", sep=\"\\t\")"
   ]
  },
  {
   "cell_type": "code",
   "execution_count": 4,
   "metadata": {},
   "outputs": [],
   "source": [
    "tags = list(sorted(df.tag.unique().tolist()))\n",
    "uds_tags = [\n",
    "    \"ADJ\", \"ADP\", \"ADV\", \"AUX\",\n",
    "    \"CONJ\", \"CCONJ\", \"DET\", \"INTJ\",\n",
    "    \"NOUN\", \"NUM\", \"PART\", \"PRON\",\n",
    "    \"PROPN\", \"PUNCT\", \"SCONJ\", \"SYM\",\n",
    "    \"VERB\", \"X\", \"SPACE\"\n",
    "]"
   ]
  },
  {
   "cell_type": "code",
   "execution_count": 5,
   "metadata": {},
   "outputs": [],
   "source": [
    "grouped_data = dict(list(df.groupby([\"document_id\", \"line\"])))\n",
    "sentences = [g[\"token\"].tolist() for k, g in grouped_data.items()]\n",
    "pos_tags = [g[\"token_pos\"].tolist() for k, g in grouped_data.items()]\n",
    "sentence_tags = [g[\"tag\"].tolist() for k, g in grouped_data.items()]"
   ]
  },
  {
   "cell_type": "code",
   "execution_count": 6,
   "metadata": {},
   "outputs": [
    {
     "name": "stdout",
     "output_type": "stream",
     "text": [
      "--------------------------------------------------\n",
      "Number of sentences: \t\t337\n",
      "Number of unique words: \t1220\n",
      "Number of unique tags: \t\t10\n",
      "Number of unique chars: \t97\n",
      "--------------------------------------------------\n"
     ]
    }
   ],
   "source": [
    "words = list(sorted(df.token.unique()))\n",
    "tags = [\"<PAD>\"] + list(sorted(df.tag.unique()))\n",
    "# uds_tags = [\"<PAD>\"] + uds_tags\n",
    "chars = set([w_i for w in words for w_i in w])\n",
    "\n",
    "n_words = len(words)\n",
    "n_tags = len(tags)\n",
    "n_chars = len(chars)\n",
    "\n",
    "print(\"-\"*50)\n",
    "print(f\"Number of sentences: \\t\\t{len(sentences)}\")\n",
    "print(f\"Number of unique words: \\t{n_words}\")\n",
    "print(f\"Number of unique tags: \\t\\t{n_tags}\")\n",
    "print(f\"Number of unique chars: \\t{n_chars}\")\n",
    "print(\"-\"*50)"
   ]
  },
  {
   "cell_type": "code",
   "execution_count": 12,
   "metadata": {},
   "outputs": [
    {
     "data": {
      "image/png": "[encoded data removed]",
      "text/plain": [
       "<Figure size 1152x504 with 2 Axes>"
      ]
     },
     "metadata": {
      "needs_background": "light"
     },
     "output_type": "display_data"
    }
   ],
   "source": [
    "plt.figure(figsize=(16,7))\n",
    "\n",
    "plt.subplot(1, 2, 1)\n",
    "plt.title(\"Sentence length distribution\")\n",
    "plt.hist([len(s) for s in sentences], bins=50)\n",
    "\n",
    "plt.subplot(1, 2, 2)\n",
    "plt.title(\"Word length distribution\")\n",
    "plt.hist([len(w) for s in sentences for w in s], bins=50)\n",
    "\n",
    "plt.show()"
   ]
  },
  {
   "cell_type": "code",
   "execution_count": 8,
   "metadata": {},
   "outputs": [],
   "source": [
    "max_len = 50\n",
    "batch_size = 32\n",
    "\n",
    "tag2idx = {t: i for i, t in enumerate(tags)}\n",
    "uds_tag2idx = {t: i for i, t in enumerate(uds_tags)}\n",
    "idx2tag = {i: t for i, t in enumerate(tags)}\n",
    "idx2uds_tag = {i: t for i, t in enumerate(uds_tags)}"
   ]
  },
  {
   "cell_type": "code",
   "execution_count": 9,
   "metadata": {},
   "outputs": [],
   "source": [
    "def vectorize_sentence(s):\n",
    "    if type(s) is str:\n",
    "        s = nlp(s)\n",
    "    result = []\n",
    "    for w in s:\n",
    "        result.append(nlp(w).vector)\n",
    "        \n",
    "    return result\n",
    "\n",
    "def pos2idx(tags):\n",
    "    result = []\n",
    "    for tag in tags:\n",
    "        v = np.zeros(len(uds_tags))\n",
    "        idx = uds_tag2idx[tag]\n",
    "        v[idx] = 1\n",
    "        result.append(v)\n",
    "        \n",
    "    return result"
   ]
  },
  {
   "cell_type": "code",
   "execution_count": 10,
   "metadata": {},
   "outputs": [],
   "source": [
    "X_token = [vectorize_sentence(s) for s in sentences]\n",
    "X_token = pad_sequences(X_token, maxlen=max_len, padding=\"post\", dtype=object, value=np.zeros(300))\n",
    "\n",
    "X_pos = [pos2idx(s) for s in pos_tags]\n",
    "X_pos = pad_sequences(X_pos, maxlen=max_len, padding=\"post\", dtype=object, value=np.zeros(len(uds_tags)))\n",
    "\n",
    "y = [[tag2idx[t] for t in s] for s in sentence_tags]\n",
    "y = pad_sequences(y, maxlen=max_len, padding=\"post\", dtype=object, value=tag2idx[\"<PAD>\"])\n",
    "y = [to_categorical(x, num_classes=n_tags) for x in y]"
   ]
  },
  {
   "cell_type": "code",
   "execution_count": null,
   "metadata": {},
   "outputs": [],
   "source": []
  },
  {
   "cell_type": "code",
   "execution_count": 31,
   "metadata": {},
   "outputs": [],
   "source": [
    "# X_token_train, X_token_test, y_train, y_test = train_test_split(X_token, y, test_size=0.1)\n",
    "X_token_train, X_token_test, X_pos_train, X_pos_test, y_train, y_test = train_test_split(X_token, X_pos, y, test_size=0.1)"
   ]
  },
  {
   "cell_type": "code",
   "execution_count": 32,
   "metadata": {},
   "outputs": [],
   "source": [
    "token_input = Input(shape=(max_len,300))\n",
    "pos_input = Input(shape=(max_len,len(uds_tags)))\n",
    "\n",
    "token_branch_bilstm = Bidirectional(LSTM(units=256, return_sequences=True,\n",
    "                           recurrent_dropout=0.1))(token_input)\n",
    "pos_branch_bilstm = Bidirectional(LSTM(units=16, return_sequences=True,\n",
    "                           recurrent_dropout=0.1))(pos_input)\n",
    "token_model = Model(token_input, token_branch_bilstm)\n",
    "pos_model = Model(pos_input, pos_branch_bilstm)\n",
    "\n",
    "combined = concatenate([token_model.output, pos_model.output])\n",
    "\n",
    "time_dist = TimeDistributed(Dense(256, activation=\"relu\"))(combined)\n",
    "crf = CRF(n_tags)\n",
    "z = crf(time_dist)\n",
    "\n",
    "# input_ = Input(shape=(max_len,300))\n",
    "# model = Bidirectional(LSTM(units=256, return_sequences=True,\n",
    "#                            recurrent_dropout=0.1))(input_)\n",
    "# model = TimeDistributed(Dense(256, activation=\"relu\"))(model)\n",
    "# crf = CRF(n_tags)  # CRF layer\n",
    "# output_ = crf(model)  # output"
   ]
  },
  {
   "cell_type": "code",
   "execution_count": 33,
   "metadata": {},
   "outputs": [],
   "source": [
    "model = Model(inputs=[token_model.input, pos_model.input], outputs=z)\n",
    "# model = Model(input_, output_)"
   ]
  },
  {
   "cell_type": "code",
   "execution_count": 34,
   "metadata": {},
   "outputs": [],
   "source": [
    "model.compile(optimizer=\"adam\", loss=crf_loss, metrics=[crf.accuracy])"
   ]
  },
  {
   "cell_type": "code",
   "execution_count": 35,
   "metadata": {},
   "outputs": [
    {
     "name": "stdout",
     "output_type": "stream",
     "text": [
      "Model: \"model_4\"\n",
      "__________________________________________________________________________________________________\n",
      "Layer (type)                    Output Shape         Param #     Connected to                     \n",
      "==================================================================================================\n",
      "input_2 (InputLayer)            (None, 50, 300)      0                                            \n",
      "__________________________________________________________________________________________________\n",
      "input_3 (InputLayer)            (None, 50, 19)       0                                            \n",
      "__________________________________________________________________________________________________\n",
      "bidirectional_2 (Bidirectional) (None, 50, 512)      1140736     input_2[0][0]                    \n",
      "__________________________________________________________________________________________________\n",
      "bidirectional_3 (Bidirectional) (None, 50, 32)       4608        input_3[0][0]                    \n",
      "__________________________________________________________________________________________________\n",
      "concatenate_1 (Concatenate)     (None, 50, 544)      0           bidirectional_2[0][0]            \n",
      "                                                                 bidirectional_3[0][0]            \n",
      "__________________________________________________________________________________________________\n",
      "time_distributed_2 (TimeDistrib (None, 50, 256)      139520      concatenate_1[0][0]              \n",
      "__________________________________________________________________________________________________\n",
      "crf_2 (CRF)                     (None, 50, 10)       2690        time_distributed_2[0][0]         \n",
      "==================================================================================================\n",
      "Total params: 1,287,554\n",
      "Trainable params: 1,287,554\n",
      "Non-trainable params: 0\n",
      "__________________________________________________________________________________________________\n"
     ]
    }
   ],
   "source": [
    "model.summary()\n"
   ]
  },
  {
   "cell_type": "code",
   "execution_count": 36,
   "metadata": {},
   "outputs": [
    {
     "data": {
      "image/png": "[encoded data removed]",
      "text/plain": [
       "<IPython.core.display.Image object>"
      ]
     },
     "execution_count": 36,
     "metadata": {},
     "output_type": "execute_result"
    }
   ],
   "source": [
    "plot_model(model, show_shapes=True)"
   ]
  },
  {
   "cell_type": "code",
   "execution_count": 37,
   "metadata": {},
   "outputs": [
    {
     "name": "stdout",
     "output_type": "stream",
     "text": [
      "Train on 272 samples, validate on 31 samples\n",
      "Epoch 1/10\n",
      "272/272 [==============================] - 9s 34ms/step - loss: 0.4857 - crf_viterbi_accuracy: 0.8590 - val_loss: 0.1840 - val_crf_viterbi_accuracy: 0.9588\n",
      "Epoch 2/10\n",
      "272/272 [==============================] - 7s 26ms/step - loss: 0.1064 - crf_viterbi_accuracy: 0.9724 - val_loss: 0.1425 - val_crf_viterbi_accuracy: 0.9607\n",
      "Epoch 3/10\n",
      "272/272 [==============================] - 7s 26ms/step - loss: 0.0896 - crf_viterbi_accuracy: 0.9743 - val_loss: 0.1497 - val_crf_viterbi_accuracy: 0.9613\n",
      "Epoch 4/10\n",
      "272/272 [==============================] - 7s 27ms/step - loss: 0.0767 - crf_viterbi_accuracy: 0.9765 - val_loss: 0.1201 - val_crf_viterbi_accuracy: 0.9613\n",
      "Epoch 5/10\n",
      "272/272 [==============================] - 7s 27ms/step - loss: 0.0548 - crf_viterbi_accuracy: 0.9829 - val_loss: 0.1213 - val_crf_viterbi_accuracy: 0.9613\n",
      "Epoch 6/10\n",
      "272/272 [==============================] - 7s 28ms/step - loss: 0.0437 - crf_viterbi_accuracy: 0.9832 - val_loss: 0.1223 - val_crf_viterbi_accuracy: 0.9645\n",
      "Epoch 7/10\n",
      "272/272 [==============================] - 7s 27ms/step - loss: 0.0329 - crf_viterbi_accuracy: 0.9881 - val_loss: 0.1210 - val_crf_viterbi_accuracy: 0.9638\n",
      "Epoch 8/10\n",
      "272/272 [==============================] - 7s 27ms/step - loss: 0.0288 - crf_viterbi_accuracy: 0.9894 - val_loss: 0.1245 - val_crf_viterbi_accuracy: 0.9621\n",
      "Epoch 9/10\n",
      "272/272 [==============================] - 7s 27ms/step - loss: 0.0212 - crf_viterbi_accuracy: 0.9913 - val_loss: 0.1273 - val_crf_viterbi_accuracy: 0.9651\n",
      "Epoch 10/10\n",
      "272/272 [==============================] - 7s 27ms/step - loss: 0.0135 - crf_viterbi_accuracy: 0.9955 - val_loss: 0.1442 - val_crf_viterbi_accuracy: 0.9633\n"
     ]
    }
   ],
   "source": [
    "# history = model.fit(X_token_train, np.array(y_train), batch_size=8, epochs=11,\n",
    "#                     validation_split=0.1, verbose=1)\n",
    "\n",
    "history = model.fit([X_token_train, X_pos_train], np.array(y_train), batch_size=8, epochs=10,\n",
    "                    validation_split=0.1, verbose=1)"
   ]
  },
  {
   "cell_type": "code",
   "execution_count": 38,
   "metadata": {},
   "outputs": [],
   "source": [
    "y_test_pred = model.predict([X_token_test, X_pos_test])\n",
    "y_train_pred = model.predict([X_token_train, X_pos_train])\n",
    "# y_test_pred = model.predict(X_token_test)\n",
    "# y_train_pred = model.predict(X_token_train)"
   ]
  },
  {
   "cell_type": "code",
   "execution_count": 39,
   "metadata": {},
   "outputs": [],
   "source": [
    "test_report = classification_report(np.array(y_test).reshape((max_len * len(y_test), n_tags)), \n",
    "                                    y_test_pred.reshape((max_len * len(y_test), n_tags)), \n",
    "                                    target_names=tags)\n",
    "train_report = classification_report(np.array(y_train).reshape((max_len * len(y_train), n_tags)), \n",
    "                                    y_train_pred.reshape((max_len * len(y_train), n_tags)), \n",
    "                                    target_names=tags)"
   ]
  },
  {
   "cell_type": "code",
   "execution_count": 40,
   "metadata": {},
   "outputs": [
    {
     "name": "stdout",
     "output_type": "stream",
     "text": [
      "              precision    recall  f1-score   support\n",
      "\n",
      "       <PAD>       1.00      1.00      1.00      1278\n",
      "       B-exp       1.00      1.00      1.00         1\n",
      "     B-skill       0.67      0.33      0.44         6\n",
      "       I-exp       0.33      1.00      0.50         1\n",
      "     I-skill       1.00      0.67      0.80         3\n",
      "       L-exp       0.00      0.00      0.00         1\n",
      "     L-skill       1.00      0.50      0.67         6\n",
      "           O       0.98      0.99      0.98       395\n",
      "       U-exp       0.00      0.00      0.00         0\n",
      "     U-skill       0.73      0.89      0.80         9\n",
      "\n",
      "   micro avg       0.99      0.99      0.99      1700\n",
      "   macro avg       0.67      0.64      0.62      1700\n",
      "weighted avg       0.99      0.99      0.99      1700\n",
      " samples avg       0.99      0.99      0.99      1700\n",
      "\n",
      "--------------------------------------------------\n",
      "              precision    recall  f1-score   support\n",
      "\n",
      "       <PAD>       1.00      1.00      1.00     11464\n",
      "       B-exp       0.90      0.90      0.90        10\n",
      "     B-skill       0.96      0.90      0.93       105\n",
      "       I-exp       0.66      0.91      0.76        23\n",
      "     I-skill       0.97      0.82      0.89        79\n",
      "       L-exp       0.80      0.40      0.53        10\n",
      "     L-skill       0.93      0.78      0.85       101\n",
      "           O       0.98      0.99      0.99      3213\n",
      "       U-exp       0.00      0.00      0.00         1\n",
      "     U-skill       0.92      0.91      0.92       144\n",
      "\n",
      "   micro avg       0.99      0.99      0.99     15150\n",
      "   macro avg       0.81      0.76      0.78     15150\n",
      "weighted avg       0.99      0.99      0.99     15150\n",
      " samples avg       0.99      0.99      0.99     15150\n",
      "\n"
     ]
    }
   ],
   "source": [
    "print(test_report)\n",
    "print(\"-\"*50)\n",
    "print(train_report)"
   ]
  },
  {
   "cell_type": "code",
   "execution_count": 48,
   "metadata": {},
   "outputs": [
    {
     "name": "stdout",
     "output_type": "stream",
     "text": [
      "Word            Pred \n",
      "------------------------------\n",
      "3              :B-exp\n",
      "years          :I-exp\n",
      "of             :O    \n",
      "experience     :O    \n",
      "in             :O    \n",
      "Scala          :U-skill\n",
      "and            :O    \n",
      "Haskell        :U-skill\n",
      ".              :O    \n"
     ]
    }
   ],
   "source": [
    "x_t = np.zeros((max_len, 300))\n",
    "x_p = np.zeros((max_len, len(uds_tags)))\n",
    "\n",
    "sentence = \"3 years of experience in Scala and Haskell.\"\n",
    "# sentence = \"Proven track record of projects like Dota, CS:GO and WarCraft.\"\n",
    "# sentence = \"3 years of experience in project management\"\n",
    "# sentence = \"Writing unit tests, integration tests\"\n",
    "# sentence = \"Development of ML models with Tensorflow, Pytorch.\"\n",
    "# sentence = \"Experience in enterprise application architecture development.\"\n",
    "\n",
    "\n",
    "doc = nlp(sentence)\n",
    "\n",
    "for i, token in enumerate(doc):\n",
    "    x_t[i] = token.vector\n",
    "    x_p[i][uds_tag2idx[token.pos_]] = 1\n",
    "    \n",
    "# p = model.predict(np.array([x_t]))[0]\n",
    "p = model.predict([np.array([x_t]), np.array([x_p])])[0]\n",
    "\n",
    "p = np.argmax(p, axis=-1)\n",
    "\n",
    "print(\"{:15} {:5}\".format(\"Word\", \"Pred\"))\n",
    "print(\"-\"*30)\n",
    "\n",
    "for i, token in enumerate(doc):\n",
    "    print(\"{:15}:{:5}\".format(token.text, idx2tag[p[i]]))\n",
    "\n",
    "# for w, pred in zip(x_t[0], p):\n",
    "#     if w != \"<PAD>\":\n",
    "#         print(\"{:15}:{:5}\".format(w, idx2tag[pred]))"
   ]
  },
  {
   "cell_type": "code",
   "execution_count": null,
   "metadata": {},
   "outputs": [],
   "source": []
  },
  {
   "cell_type": "code",
   "execution_count": null,
   "metadata": {},
   "outputs": [],
   "source": []
  }
 ],
 "metadata": {
  "kernelspec": {
   "display_name": "Python 3",
   "language": "python",
   "name": "python3"
  },
  "language_info": {
   "codemirror_mode": {
    "name": "ipython",
    "version": 3
   },
   "file_extension": ".py",
   "mimetype": "text/x-python",
   "name": "python",
   "nbconvert_exporter": "python",
   "pygments_lexer": "ipython3",
   "version": "3.7.4"
  }
 },
 "nbformat": 4,
 "nbformat_minor": 4
}
